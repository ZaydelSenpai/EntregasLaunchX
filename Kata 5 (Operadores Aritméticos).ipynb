{
 "cells": [
  {
   "cell_type": "markdown",
   "metadata": {},
   "source": [
    "## Ejercicio1 - Utilizar operadores aritméticos"
   ]
  },
  {
   "cell_type": "code",
   "execution_count": 88,
   "metadata": {},
   "outputs": [
    {
     "name": "stdout",
     "output_type": "stream",
     "text": [
      "Hay 628949330 Kilometros entre los dos planetas\n",
      "o bien, 390577533.93 Millas.\n"
     ]
    }
   ],
   "source": [
    "planeta1 = jupiter\n",
    "planeta2 = tierra\n",
    "\n",
    "tierra = 149597870\n",
    "jupiter = 778547200\n",
    "\n",
    "\n",
    "distancia_km = planeta1 - planeta2\n",
    "print (\"Hay \"+str(distancia_km)+\" Kilometros entre los dos planetas\")\n",
    "\n",
    "distancia_millas = separacion * 0.621\n",
    "print (\"o bien, \"+str(distancia_millas)+\" Millas.\")\n"
   ]
  },
  {
   "cell_type": "markdown",
   "metadata": {},
   "source": [
    "## Ejercicio 2: convierte cadenas en números y usa valores absolutos\n"
   ]
  },
  {
   "cell_type": "code",
   "execution_count": 91,
   "metadata": {},
   "outputs": [
    {
     "name": "stdout",
     "output_type": "stream",
     "text": [
      "La distancia de separación entre el Planeta 1 y el planeta 2 es de 1439100000km\n",
      "o bien, 893681100.0 Millas.\n"
     ]
    }
   ],
   "source": [
    "distanciaPlaneta1=int(input(\"Introduzca la distancia en KM del Planeta 1\"))\n",
    "distanciaPlaneta2=int(input(\"Introduzca la distancia en KM del Planeta 2\"))\n",
    "distancia_sol=1497000000\n",
    "##Convertido a enteros, ahora:\n",
    "\n",
    "#Planeta\tDistancia al sol\n",
    "#Mercurio\t57900000\n",
    "#Venus\t    108200000\n",
    "#Tierra \t149600000\n",
    "#Marte  \t227900000\n",
    "#Júpiter\t778600000\n",
    "#Saturno\t1433500000\n",
    "#Urano  \t2872500000\n",
    "#Neptuno\t4495100000\n",
    "\n",
    "kilometros = abs(distancia_sol - distanciaPlaneta)\n",
    "\n",
    "print (\"La distancia de separación entre el Planeta 1 y el planeta 2 es de \" + str(kilometros)+\"km\")\n",
    "distancia_millas = kilometros * 0.621\n",
    "print (\"o bien, \"+str(distancia_millas)+\" Millas.\")"
   ]
  }
 ],
 "metadata": {
  "interpreter": {
   "hash": "b89b5cfaba6639976dc87ff2fec6d58faec662063367e2c229c520fe71072417"
  },
  "kernelspec": {
   "display_name": "Python 3.10.2 64-bit",
   "language": "python",
   "name": "python3"
  },
  "language_info": {
   "codemirror_mode": {
    "name": "ipython",
    "version": 3
   },
   "file_extension": ".py",
   "mimetype": "text/x-python",
   "name": "python",
   "nbconvert_exporter": "python",
   "pygments_lexer": "ipython3",
   "version": "3.10.2"
  },
  "orig_nbformat": 4
 },
 "nbformat": 4,
 "nbformat_minor": 2
}
