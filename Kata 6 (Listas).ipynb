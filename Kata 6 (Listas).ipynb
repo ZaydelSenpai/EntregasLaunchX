{
 "cells": [
  {
   "cell_type": "markdown",
   "metadata": {},
   "source": [
    "## Ejercicio1: Crear y usar listas de Python"
   ]
  },
  {
   "cell_type": "code",
   "execution_count": 44,
   "metadata": {},
   "outputs": [
    {
     "name": "stdout",
     "output_type": "stream",
     "text": [
      "['Marte', 'Tierra', 'Venus', 'Mercurio', 'Neptuno', 'Saturno', 'Urano', 'Jupiter']\n"
     ]
    }
   ],
   "source": [
    "planets = [\"Marte\",\"Tierra\",\"Venus\",\"Mercurio\",\"Neptuno\",\"Saturno\",\"Urano\",\"Jupiter\"]\n",
    "print(str(planets))"
   ]
  },
  {
   "cell_type": "code",
   "execution_count": 45,
   "metadata": {},
   "outputs": [
    {
     "name": "stdout",
     "output_type": "stream",
     "text": [
      "Pluton\n",
      "El número de planetas total en la lista es de 9\n"
     ]
    }
   ],
   "source": [
    "##Añadiendo Pluton\n",
    "planets = [\"Marte\",\"Tierra\",\"Venus\",\"Mercurio\",\"Neptuno\",\"Saturno\",\"Urano\",\"Jupiter\"]\n",
    "planets.append(\"Pluton\")\n",
    "print(str(planets[-1])) #o print(str(planets[8]))\n",
    "print(\"El número de planetas total en la lista es de \"+str(len(planets)))"
   ]
  },
  {
   "cell_type": "markdown",
   "metadata": {},
   "source": [
    "## Ejercicio 2: Trabajando con datos de una lista\n",
    "Queremos mostrar planetas más cerca y más lejos del sol de un planeta que el usuario ingresa por teclado."
   ]
  },
  {
   "cell_type": "code",
   "execution_count": 65,
   "metadata": {},
   "outputs": [
    {
     "name": "stdout",
     "output_type": "stream",
     "text": [
      "Introduciste un planeta correcto: Earth\n",
      "Lista de planetas más cercanos al sol en comparación de Earth: ['Mercury', 'Venus']\n",
      "Lista de planetas más lejanos al sol en comparación de Earth: ['Mars', 'Jupiter', 'Saturn', 'Neptune']\n"
     ]
    }
   ],
   "source": [
    "# Lista de planetas\n",
    "planets = [\"Mercury\", \"Venus\", \"Earth\", \"Mars\", \"Jupiter\", \"Saturn\", \"Neptune\"]\n",
    "\n",
    "planetaprocesado = input(\"Escribe el nombre de un planeta (empieza con una letra mayuscula, pls)\")\n",
    "planets_index = planets.index(planetaprocesado)\n",
    "print(\"Introduciste un planeta correcto: \" + planetaprocesado)\n",
    "print(\"Lista de planetas más cercanos al sol en comparación de \"+ planetaprocesado+\": \"+str(planets[0:planets_index]))\n",
    "print(\"Lista de planetas más lejanos al sol en comparación de \"+ planetaprocesado+\": \"+str(planets[planets_index+1:]))"
   ]
  }
 ],
 "metadata": {
  "interpreter": {
   "hash": "b89b5cfaba6639976dc87ff2fec6d58faec662063367e2c229c520fe71072417"
  },
  "kernelspec": {
   "display_name": "Python 3.10.2 64-bit",
   "language": "python",
   "name": "python3"
  },
  "language_info": {
   "codemirror_mode": {
    "name": "ipython",
    "version": 3
   },
   "file_extension": ".py",
   "mimetype": "text/x-python",
   "name": "python",
   "nbconvert_exporter": "python",
   "pygments_lexer": "ipython3",
   "version": "3.10.2"
  },
  "orig_nbformat": 4
 },
 "nbformat": 4,
 "nbformat_minor": 2
}
