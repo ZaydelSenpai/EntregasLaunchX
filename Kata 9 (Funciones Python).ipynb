{
 "cells": [
  {
   "cell_type": "markdown",
   "metadata": {},
   "source": [
    "## Ejercicio 1: Trabajar con argumentos en funciones\n",
    "Funcion para leer promedio de 3 tanques de combustible"
   ]
  },
  {
   "cell_type": "code",
   "execution_count": 164,
   "metadata": {},
   "outputs": [
    {
     "name": "stdout",
     "output_type": "stream",
     "text": [
      "\n",
      "    Tanque 1: 49.9%\n",
      "    Tanque 2: 77.4%\n",
      "    Tanque 3: 63.3%\n",
      "\n",
      "    El promedio de los tres tanques es de 63.53%\n",
      "    \n"
     ]
    }
   ],
   "source": [
    "def promedio(values):\n",
    "    total = sum(values)\n",
    "    numitems = len(values)\n",
    "    return total / numitems\n",
    "\n",
    "def combustible (tanque1, tanque2, tanque3):\n",
    "    sum = tanque1+tanque2+tanque3 \n",
    "    return (f\"\"\"\n",
    "    Tanque 1: {tanque1}%\n",
    "    Tanque 2: {tanque2}%\n",
    "    Tanque 3: {tanque3}%\n",
    "\n",
    "    El promedio de los tres tanques es de {round(promedio([tanque1,tanque2,tanque3]),2)}%\n",
    "    \"\"\")\n",
    "\n",
    "print(combustible(49.9,77.4,63.3))"
   ]
  },
  {
   "cell_type": "markdown",
   "metadata": {},
   "source": [
    "## Ejercicio 2: Trabajo con argumentos de palabra clave\n",
    "Función con un informe preciso de la misión. Considera hora de prelanzamiento, tiempo de vuelo, destino, tanque externo y tanque interno"
   ]
  },
  {
   "cell_type": "code",
   "execution_count": 166,
   "metadata": {},
   "outputs": [
    {
     "name": "stdout",
     "output_type": "stream",
     "text": [
      "\n",
      "    \n",
      "    Tiempo de prelanzamiento: 15 horas\n",
      "    Tiempo de vuelo: 20 horas\n",
      "    Tiempo total de viaje: 35 horas\n",
      "    Actualmente viajando a: Marte :O\n",
      "    Combustible externo: 20000 litros\n",
      "    Combustible interno: 50000 litros\n",
      "    Combustible total: 70000 litros\n",
      "    \n"
     ]
    }
   ],
   "source": [
    "def reportedemision (prelanzamiento,tiempo_vuelo,destino,tanque_externo,tanque_interno):\n",
    "    return(f\"\"\"\n",
    "    \n",
    "    Tiempo de prelanzamiento: {prelanzamiento} horas\n",
    "    Tiempo de vuelo: {tiempo_vuelo} horas\n",
    "    Tiempo total de viaje: {prelanzamiento+tiempo_vuelo} horas\n",
    "    Actualmente viajando a: {destino} :O\n",
    "    Combustible externo: {tanque_externo} litros\n",
    "    Combustible interno: {tanque_interno} litros\n",
    "    Combustible total: {tanque_externo+tanque_interno} litros\n",
    "    \"\"\")\n",
    "\n",
    "print(reportedemision(15,20,\"Marte\",20000,50000))"
   ]
  },
  {
   "cell_type": "code",
   "execution_count": 178,
   "metadata": {},
   "outputs": [
    {
     "name": "stdout",
     "output_type": "stream",
     "text": [
      "\n",
      "    Viajando a Marte\n",
      "    Tiempo total de viaje: 79 minutos\n",
      "    Combustible restante: 500000 litros\n",
      "    \n"
     ]
    }
   ],
   "source": [
    "def reportedemision(destino, *minutos, **reservasdecombustible):\n",
    "    return f\"\"\"\n",
    "    Viajando a {destino}\n",
    "    Tiempo total de viaje: {sum(minutos)} minutos\n",
    "    Combustible restante: {sum(reservasdecombustible.values())} litros\n",
    "    \"\"\"\n",
    "\n",
    "print(reportedemision(\"Marte\", 5, 2, 10, 12, 50, tanque_externo=300000, tanque_interno=200000))"
   ]
  },
  {
   "cell_type": "code",
   "execution_count": 196,
   "metadata": {},
   "outputs": [
    {
     "name": "stdout",
     "output_type": "stream",
     "text": [
      "\n",
      "    Viajando a Marte\n",
      "    Tiempo total de viaje: 79 minutos\n",
      "    Combustible restante: 500000 litros\n",
      "    Litros por tanque:\n",
      "    tanque_externo: 300000 litros restantes\n",
      "tanque_interno: 200000 litros restantes\n",
      "\n"
     ]
    }
   ],
   "source": [
    "def reportedemision(destino, *minutos, **reservasdecombustible):\n",
    "    reporte = f\"\"\"\n",
    "    Viajando a {destino}\n",
    "    Tiempo total de viaje: {sum(minutos)} minutos\n",
    "    Combustible restante: {sum(reservasdecombustible.values())} litros\n",
    "    Litros por tanque:\n",
    "    \"\"\"\n",
    "    for tanquecito, litros in reservasdecombustible.items():\n",
    "        reporte += f\"\"\"{tanquecito}: {litros} litros restantes\\n\"\"\"\n",
    "    return reporte\n",
    "\n",
    "print(reportedemision(\"Marte\", 5, 2, 10, 12, 50, tanque_externo=300000, tanque_interno=200000))"
   ]
  }
 ],
 "metadata": {
  "interpreter": {
   "hash": "b89b5cfaba6639976dc87ff2fec6d58faec662063367e2c229c520fe71072417"
  },
  "kernelspec": {
   "display_name": "Python 3.10.2 64-bit",
   "language": "python",
   "name": "python3"
  },
  "language_info": {
   "codemirror_mode": {
    "name": "ipython",
    "version": 3
   },
   "file_extension": ".py",
   "mimetype": "text/x-python",
   "name": "python",
   "nbconvert_exporter": "python",
   "pygments_lexer": "ipython3",
   "version": "3.10.2"
  },
  "orig_nbformat": 4
 },
 "nbformat": 4,
 "nbformat_minor": 2
}
