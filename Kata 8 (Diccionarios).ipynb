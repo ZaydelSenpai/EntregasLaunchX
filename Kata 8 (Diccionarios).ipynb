{
 "cells": [
  {
   "cell_type": "markdown",
   "metadata": {},
   "source": [
    "## Ejercicio 1: Creación de diccionarios de Python"
   ]
  },
  {
   "cell_type": "code",
   "execution_count": 97,
   "metadata": {},
   "outputs": [
    {
     "name": "stdout",
     "output_type": "stream",
     "text": [
      "El planeta mars tiene 2 lunas\n",
      "El planeta mars tiene 2 lunas, además tiene una circunferencia polar de: 6752 km\n"
     ]
    }
   ],
   "source": [
    "planet = {\n",
    "    \"name\" : \"mars\",\n",
    "    \"moons\" : 2\n",
    "}\n",
    "\n",
    "print (\"El planeta \"+str(planet[\"name\"]) + \" tiene \" + str(planet[\"moons\"]) + \" lunas\")\n",
    "\n",
    "planet [\"circunferencia en km\"]={\n",
    "    \"polar\":6752,\n",
    "    \"equatorial\":6792\n",
    "}\n",
    "\n",
    "print (\"El planeta \"+str(planet[\"name\"]) + \" tiene \" + str(planet[\"moons\"]) + \" lunas, además tiene una circunferencia polar de: \"+str(planet[\"circunferencia en km\"][\"polar\"])+\" km\")"
   ]
  },
  {
   "cell_type": "markdown",
   "metadata": {},
   "source": [
    "## Ejercicio 2: Programación dinámica con diccionarios"
   ]
  },
  {
   "cell_type": "code",
   "execution_count": 98,
   "metadata": {},
   "outputs": [
    {
     "name": "stdout",
     "output_type": "stream",
     "text": [
      "Total de lunas: 214\n",
      "Promedio de lunas por planeta: 17.833333333333332\n"
     ]
    }
   ],
   "source": [
    "# Planets and moons\n",
    "\n",
    "planet_moons = {\n",
    "    'mercury': 0,\n",
    "    'venus': 0,\n",
    "    'earth': 1,\n",
    "    'mars': 2,\n",
    "    'jupiter': 79,\n",
    "    'saturn': 82,\n",
    "    'uranus': 27,\n",
    "    'neptune': 14,\n",
    "    'pluto': 5,\n",
    "    'haumea': 2,\n",
    "    'makemake': 1,\n",
    "    'eris': 1\n",
    "}\n",
    "\n",
    "\n",
    "moons = planet_moons.values()\n",
    "planets = len(planet_moons.keys())\n",
    "total_moons = 0\n",
    "for moon in moons:\n",
    "    total_moons = total_moons + moon\n",
    "\n",
    "promedio = total_moons / planets\n",
    "print(\"Total de lunas: \" +str(total_moons))\n",
    "print(\"Promedio de lunas por planeta: \" +str(promedio))"
   ]
  }
 ],
 "metadata": {
  "interpreter": {
   "hash": "b89b5cfaba6639976dc87ff2fec6d58faec662063367e2c229c520fe71072417"
  },
  "kernelspec": {
   "display_name": "Python 3.10.2 64-bit",
   "language": "python",
   "name": "python3"
  },
  "language_info": {
   "codemirror_mode": {
    "name": "ipython",
    "version": 3
   },
   "file_extension": ".py",
   "mimetype": "text/x-python",
   "name": "python",
   "nbconvert_exporter": "python",
   "pygments_lexer": "ipython3",
   "version": "3.10.2"
  },
  "orig_nbformat": 4
 },
 "nbformat": 4,
 "nbformat_minor": 2
}
