{
 "cells": [
  {
   "cell_type": "markdown",
   "metadata": {},
   "source": [
    "## Ejercicio por si se acerca un asteroide muy rápido a la tierra."
   ]
  },
  {
   "cell_type": "code",
   "execution_count": 2,
   "metadata": {},
   "outputs": [
    {
     "name": "stdout",
     "output_type": "stream",
     "text": [
      "Actualmente hay rayos de luz viajando máximo a 15km/s, no hay nada de que preocuparse :)\n"
     ]
    }
   ],
   "source": [
    "asteroide = 15\n",
    "\n",
    "if asteroide >= 25:\n",
    "    print (\"ALERTA, un asteroide se acerca a \" + str(asteroide) + \"km/s! :(\")\n",
    "elif asteroide >= 20:\n",
    "    print (\"Un rayo de luz fué detectado a \" + str(asteroide) + \"km/s! Es hora de buscar asteroides en el cielo :D\")\n",
    "else:\n",
    "    print (\"Actualmente hay rayos de luz viajando máximo a \" + str(asteroide) + \"km/s, no hay nada de que preocuparse :)\")"
   ]
  },
  {
   "cell_type": "markdown",
   "metadata": {},
   "source": [
    "## Ejercicio por si se acerca un asteroide muy rápido a la tierra."
   ]
  },
  {
   "cell_type": "code",
   "execution_count": 3,
   "metadata": {},
   "outputs": [
    {
     "name": "stdout",
     "output_type": "stream",
     "text": [
      "ALERTA MÁXIMA, un asteroide se acerca a 500km/s y es de 500 metros!!! El fin llegó xd\n"
     ]
    }
   ],
   "source": [
    "asteroidspeed = 500\n",
    "asteroidsize = 500\n",
    "\n",
    "if asteroidspeed >= 25 and (asteroidsize >=25):\n",
    "    print (\"ALERTA MÁXIMA, un asteroide se acerca a \" + str(asteroidspeed) + \"km/s y es de \" + str(asteroidsize) + \" metros!!! El fin llegó xd\")\n",
    "elif asteroidspeed >= 25 and (asteroidsize ==25 or asteroidsize<=25):\n",
    "    print (\"Un asteroide menor está cayendo a \" + str(asteroidspeed) + \" km/s, pero debido a su tamaño de \" + str(asteroidsize) + \"m, se destruirá antes de entrar en la atmosfera\")\n",
    "elif asteroidspeed <= 25 and (asteroidsize ==25 or asteroidsize>=25):\n",
    "    print (\"Un asteroide se acerca a \" + str(asteroidspeed) + \"km/s pero es de \" + str(asteroidsize) + \" metros, posiblemente impacte en la tierra\")\n",
    "elif asteroidspeed >= 20:\n",
    "    print (\"Un asteroide de \"+str(asteroidsize)+\"m fué detectado a \" + str(asteroidspeed) + \" km/s\" + \" debemos estar alerta\")\n",
    "else:\n",
    "    print (\"Actualmente meteoritos viajando máximo a \" + str(asteroidspeed) + \"km/s, no hay nada de que preocuparse :)\")"
   ]
  },
  {
   "cell_type": "markdown",
   "metadata": {},
   "source": [
    "## Solución otorgada por el tutor."
   ]
  },
  {
   "cell_type": "code",
   "execution_count": 4,
   "metadata": {},
   "outputs": [
    {
     "name": "stdout",
     "output_type": "stream",
     "text": [
      "Look up! ¡Hay una luz mágica en el cielo!\n"
     ]
    }
   ],
   "source": [
    "velocidad_asteroide = 25\n",
    "tamano_asteroide = 500\n",
    "if velocidad_asteroide > 25 and tamano_asteroide > 25:\n",
    "    print('¡Alerta, Un asteroide muy peligroso viene hacia la Tierra!')\n",
    "elif velocidad_asteroide >= 20:\n",
    "    print('Look up! ¡Hay una luz mágica en el cielo!')\n",
    "elif tamano_asteroide < 25:\n",
    "    print('Nada que ver aquí :)')\n",
    "else:\n",
    "    print('Nada que ver aquí :)')"
   ]
  }
 ],
 "metadata": {
  "interpreter": {
   "hash": "b89b5cfaba6639976dc87ff2fec6d58faec662063367e2c229c520fe71072417"
  },
  "kernelspec": {
   "display_name": "Python 3.10.2 64-bit",
   "language": "python",
   "name": "python3"
  },
  "language_info": {
   "codemirror_mode": {
    "name": "ipython",
    "version": 3
   },
   "file_extension": ".py",
   "mimetype": "text/x-python",
   "name": "python",
   "nbconvert_exporter": "python",
   "pygments_lexer": "ipython3",
   "version": "3.10.2"
  },
  "orig_nbformat": 4
 },
 "nbformat": 4,
 "nbformat_minor": 2
}
