{
 "cells": [
  {
   "cell_type": "markdown",
   "metadata": {},
   "source": [
    "## Ejercicio 1: Transformar cadenas"
   ]
  },
  {
   "cell_type": "code",
   "execution_count": 23,
   "metadata": {},
   "outputs": [
    {
     "name": "stdout",
     "output_type": "stream",
     "text": [
      " \n",
      "On average, the Moon moves 4cm away from the Earth every year\n",
      " The highest daylight temperature of the Moon is 127 C\n",
      " \n",
      "On average, the Moon moves 4cm away from the Earth every year\n",
      " The highest daylight temperature of the Moon is 127 Celcius\n"
     ]
    }
   ],
   "source": [
    "texto= \"\"\"Interesting facts about the Moon. The Moon is Earth's only satellite. There are several interesting facts about the Moon and how it affects life here on Earth. \n",
    "On average, the Moon moves 4cm away from the Earth every year. This yearly drift is not significant enough to cause immediate effects on Earth. The highest daylight temperature of the Moon is 127 C.\"\"\"\n",
    "palabrasClave = [\"average\", \"temperature\", \"distance\"]\n",
    "\n",
    "texto_dividido = texto.split(\".\")\n",
    "\n",
    "for x in texto_dividido:\n",
    "    for palabra in palabrasClave:\n",
    "        if palabra in x:\n",
    "            print(x)\n",
    "            break\n",
    "\n",
    "for change in texto_dividido:\n",
    "    for oracion in palabrasClave:\n",
    "        if oracion in change:\n",
    "            print(change.replace(\"C\", \"Celcius\"))\n",
    "            break"
   ]
  },
  {
   "cell_type": "markdown",
   "metadata": {},
   "source": [
    "## Ejercicio 2: Formateando Cadenas"
   ]
  },
  {
   "cell_type": "code",
   "execution_count": 24,
   "metadata": {},
   "outputs": [
    {
     "name": "stdout",
     "output_type": "stream",
     "text": [
      "Gravedad de las lunas en diferentes planetas\n",
      "\n",
      "----------------------------------------------------------------------------------------------------\n",
      "\n",
      "Datos de gravedad en Luna\n",
      "Gravedad en Luna: 1.62 m/s\n",
      "Nombre del planeta: Tierra\n",
      "\n",
      "----------------------------------------------------------------------------------------------------\n",
      "\n",
      "Datos de gravedad en Ganímedes\n",
      "Gravedad en Ganímedes: 1.43 m/s\n",
      "Nombre del planeta: Marte \n"
     ]
    }
   ],
   "source": [
    "# Datos con los que vas a trabajar\n",
    "titulo = \"Gravedad de las lunas en diferentes planetas\"\n",
    "titulo.title()\n",
    "\n",
    "planet = \"Tierra\"\n",
    "gravity = 0.00162 # Km/s\n",
    "name = \"Luna\"\n",
    "\n",
    "planeta = 'Marte '\n",
    "gravedad  = 0.00143\n",
    "nombre = 'Ganímedes'\n",
    "\n",
    "print (titulo)\n",
    "hechos= f\"\"\"\n",
    "{\"-\"*100}\n",
    "\n",
    "Datos de gravedad en {name}\n",
    "Gravedad en {name}: {round(gravity*1000,3)} m/s\n",
    "Nombre del planeta: {planet}\"\"\"\n",
    "print (hechos)\n",
    "\n",
    "plantilla1 = f\"\"\"\n",
    "{\"-\"*100}\n",
    "\n",
    "Datos de gravedad en {nombre}\n",
    "Gravedad en {nombre}: {round(gravedad*1000,3)} m/s\n",
    "Nombre del planeta: {planeta}\"\"\"\n",
    "print(plantilla1.format(nombre=name, planeta=planet, gravedad=gravity))\n",
    "\n"
   ]
  }
 ],
 "metadata": {
  "interpreter": {
   "hash": "b89b5cfaba6639976dc87ff2fec6d58faec662063367e2c229c520fe71072417"
  },
  "kernelspec": {
   "display_name": "Python 3.10.2 64-bit",
   "language": "python",
   "name": "python3"
  },
  "language_info": {
   "codemirror_mode": {
    "name": "ipython",
    "version": 3
   },
   "file_extension": ".py",
   "mimetype": "text/x-python",
   "name": "python",
   "nbconvert_exporter": "python",
   "pygments_lexer": "ipython3",
   "version": "3.10.2"
  },
  "orig_nbformat": 4
 },
 "nbformat": 4,
 "nbformat_minor": 2
}
